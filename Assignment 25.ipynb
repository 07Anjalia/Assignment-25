{
 "cells": [
  {
   "cell_type": "markdown",
   "id": "92fbca2f-73db-4cc3-a6c8-86e89b025613",
   "metadata": {},
   "source": [
    "1) . What is the difference between enclosing a list comprehension in square brackets and\n",
    "parentheses? in python\n",
    "\n",
    "The difference is that a generator is defined using parentheses, while list comprehensions are defined using square brackets.\n"
   ]
  },
  {
   "cell_type": "markdown",
   "id": "b97e3d99-17e7-4907-a510-2e1d52015a62",
   "metadata": {},
   "source": [
    "2) What is the relationship between generators and iterators?\n",
    "\n",
    "Iterators are the objects that use the next() method to get the next value of the sequence. A generator is a function that produces or yields a sequence of values using a yield statement. Classes are used to Implement the iterators. Functions are used to implement the generator."
   ]
  },
  {
   "cell_type": "markdown",
   "id": "8a08d5aa-1e01-4dc3-a3bb-a2baf5ed7f9c",
   "metadata": {},
   "source": [
    "3) What are the signs that a function is a generator function?\n",
    "\n",
    "We can only tell it's a generator function by the presence of a yield statement. A yield statement turns a regular function into a generator function."
   ]
  },
  {
   "cell_type": "markdown",
   "id": "7c878334-e992-4305-a57a-3064c1650242",
   "metadata": {},
   "source": [
    "4) What is the purpose of a yield statement?\n",
    "\n",
    "The yield keyword in Python controls the flow of a generator function. \n",
    "This is similar to a return statement used for returning values in Python."
   ]
  },
  {
   "cell_type": "code",
   "execution_count": null,
   "id": "231f40ee-4cbb-4725-868d-1685e76bab32",
   "metadata": {},
   "outputs": [],
   "source": [
    "5) What is the relationship between map calls and list comprehensions? Make a comparison and\n",
    "contrast between the two.\n"
   ]
  }
 ],
 "metadata": {
  "kernelspec": {
   "display_name": "Python 3 (ipykernel)",
   "language": "python",
   "name": "python3"
  },
  "language_info": {
   "codemirror_mode": {
    "name": "ipython",
    "version": 3
   },
   "file_extension": ".py",
   "mimetype": "text/x-python",
   "name": "python",
   "nbconvert_exporter": "python",
   "pygments_lexer": "ipython3",
   "version": "3.10.6"
  }
 },
 "nbformat": 4,
 "nbformat_minor": 5
}
